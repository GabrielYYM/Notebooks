{
  "nbformat": 4,
  "nbformat_minor": 0,
  "metadata": {
    "colab": {
      "provenance": [],
      "include_colab_link": true
    },
    "kernelspec": {
      "name": "python3",
      "display_name": "Python 3"
    },
    "language_info": {
      "name": "python"
    }
  },
  "cells": [
    {
      "cell_type": "markdown",
      "metadata": {
        "id": "view-in-github",
        "colab_type": "text"
      },
      "source": [
        "<a href=\"https://colab.research.google.com/github/GabrielYYM/Notebooks/blob/main/exercicios_bibliotecas_python.ipynb\" target=\"_parent\"><img src=\"https://colab.research.google.com/assets/colab-badge.svg\" alt=\"Open In Colab\"/></a>"
      ]
    },
    {
      "cell_type": "markdown",
      "source": [
        "# **SciPy**"
      ],
      "metadata": {
        "id": "RYqNjJLkun0r"
      }
    },
    {
      "cell_type": "code",
      "execution_count": null,
      "metadata": {
        "id": "QweqblEWu1Rc"
      },
      "outputs": [],
      "source": [
        "Encontre os autovalores e autovetores de uma matriz 4x4 de números inteiros aleatórios"
      ]
    },
    {
      "cell_type": "code",
      "source": [
        "import numpy as np\n",
        "from scipy import linalg\n",
        "\n",
        "# Create a random 4x4 integer matrix\n",
        "matrix = np.random.randint(0, 10, size=(4, 4))\n",
        "print(\"Random 4x4 matrix:\")\n",
        "print(matrix)\n",
        "\n",
        "# Find eigenvalues and eigenvectors\n",
        "eigenvalues, eigenvectors = linalg.eig(matrix)\n",
        "\n",
        "print(\"\\nEigenvalues:\")\n",
        "print(eigenvalues)\n",
        "\n",
        "print(\"\\nEigenvectors:\")\n",
        "print(eigenvectors)"
      ],
      "metadata": {
        "id": "74GxAoMyuRYF"
      },
      "execution_count": null,
      "outputs": []
    },
    {
      "cell_type": "markdown",
      "source": [
        "Resolva a equação ex − x2 = 0 para encontrar a raiz mais próximo de x = 1."
      ],
      "metadata": {
        "id": "uYmT2gSVuTBf"
      }
    },
    {
      "cell_type": "code",
      "source": [
        "from scipy import optimize\n",
        "import numpy as np\n",
        "\n",
        "# Define the function\n",
        "def f(x):\n",
        "  return np.exp(x) - x**2\n",
        "\n",
        "# Solve the equation for the root closest to x = 1\n",
        "root = optimize.fsolve(f, 1)\n",
        "\n",
        "print(f\"The root closest to x=1 for the equation e^x - x^2 = 0 is: {root[0]}\")"
      ],
      "metadata": {
        "id": "rqFgC71auTZE"
      },
      "execution_count": null,
      "outputs": []
    },
    {
      "cell_type": "markdown",
      "source": [
        "Calcule o determinante de uma matriz 6x6 de números aleatórios entre\n",
        "-10 e 10."
      ],
      "metadata": {
        "id": "9K_Q4HriuVX4"
      }
    },
    {
      "cell_type": "code",
      "source": [
        "import numpy as np\n",
        "from scipy import linalg\n",
        "\n",
        "# Create a random 6x6 matrix with values between -10 and 10\n",
        "matrix = np.random.randint(-10, 11, size=(6, 6))\n",
        "print(\"Random 6x6 matrix:\")\n",
        "print(matrix)\n",
        "\n",
        "# Calculate the determinant\n",
        "determinant = linalg.det(matrix)\n",
        "\n",
        "print(f\"\\nDeterminant of the matrix: {determinant}\")"
      ],
      "metadata": {
        "id": "-K7PWfERuVl3"
      },
      "execution_count": null,
      "outputs": []
    },
    {
      "cell_type": "markdown",
      "source": [
        "Utilize a função de otimmização multivariada para minimizar f (x, y) = (x−\n",
        "2)2 + (y − 3)2."
      ],
      "metadata": {
        "id": "8WLZvNz4uVxq"
      }
    },
    {
      "cell_type": "code",
      "source": [
        "from scipy.optimize import minimize\n",
        "\n",
        "# Define the function to minimize\n",
        "def f(params):\n",
        "  x, y = params\n",
        "  return (x - 2)**2 + (y - 3)**2\n",
        "\n",
        "# Set an initial guess for the minimum\n",
        "initial_guess = [0, 0]\n",
        "\n",
        "# Use minimize to find the minimum\n",
        "result = minimize(f, initial_guess)\n",
        "\n",
        "# Print the result\n",
        "print(f\"The minimum of the function is at x={result.x[0]:.2f} and y={result.x[1]:.2f}\")\n",
        "print(f\"The minimum value of the function is: {result.fun:.2f}\")"
      ],
      "metadata": {
        "id": "mCrTgDxouWC9"
      },
      "execution_count": null,
      "outputs": []
    },
    {
      "cell_type": "markdown",
      "source": [
        "Calcule a transformada de Fourier inversa de um sinal complexo gerado\n",
        "aleatoriamente."
      ],
      "metadata": {
        "id": "V-z_9eBhui73"
      }
    },
    {
      "cell_type": "code",
      "source": [
        "import numpy as np\n",
        "from scipy.fft import ifft\n",
        "\n",
        "# Generate a random complex signal\n",
        "# Let's create a signal with 100 points\n",
        "n_points = 100\n",
        "complex_signal = np.random.rand(n_points) + 1j * np.random.rand(n_points)\n",
        "\n",
        "print(\"Original complex signal (first 5 points):\")\n",
        "print(complex_signal[:5])\n",
        "\n",
        "# Calculate the inverse Fourier transform\n",
        "inverse_fourier_transform = ifft(complex_signal)\n",
        "\n",
        "print(\"\\nInverse Fourier Transform (first 5 points):\")\n",
        "print(inverse_fourier_transform[:5])"
      ],
      "metadata": {
        "id": "bChA7FGGukog"
      },
      "execution_count": null,
      "outputs": []
    }
  ]
}