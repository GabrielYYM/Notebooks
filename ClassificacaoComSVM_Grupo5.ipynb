{
  "nbformat": 4,
  "nbformat_minor": 0,
  "metadata": {
    "colab": {
      "provenance": [],
      "gpuType": "V28",
      "include_colab_link": true
    },
    "kernelspec": {
      "name": "python3",
      "display_name": "Python 3"
    },
    "language_info": {
      "name": "python"
    },
    "accelerator": "TPU"
  },
  "cells": [
    {
      "cell_type": "markdown",
      "metadata": {
        "id": "view-in-github",
        "colab_type": "text"
      },
      "source": [
        "<a href=\"https://colab.research.google.com/github/GabrielYYM/Notebooks/blob/main/ClassificacaoComSVM_Grupo5.ipynb\" target=\"_parent\"><img src=\"https://colab.research.google.com/assets/colab-badge.svg\" alt=\"Open In Colab\"/></a>"
      ]
    },
    {
      "cell_type": "markdown",
      "source": [
        "**Grupo 5**\n",
        "\n",
        "- AVRAHAM BEN ARAM DE SOUZA - 11231103362\n",
        "- GABRIEL YUKIO YAMAGUTI MINATO - 11231100828  \n",
        "- MIGUEL SANTANA DA COSTA - 11232100858\n",
        "- FELIPE SEIJI NAMIYAMA NISHINA - 11231103739"
      ],
      "metadata": {
        "id": "pMNBa9N4UtIc"
      }
    },
    {
      "cell_type": "markdown",
      "source": [
        "# Imports"
      ],
      "metadata": {
        "id": "pClJfxYx9dTh"
      }
    },
    {
      "cell_type": "code",
      "execution_count": null,
      "metadata": {
        "id": "aO7Cb4Sqn_xP"
      },
      "outputs": [],
      "source": [
        "import numpy as np\n",
        "import pandas as pd\n",
        "import matplotlib.pyplot as plt\n",
        "from sklearn import datasets\n",
        "from sklearn.model_selection import train_test_split, StratifiedKFold, GridSearchCV, KFold\n",
        "from sklearn.svm import SVC\n",
        "from sklearn.metrics import accuracy_score, ConfusionMatrixDisplay, classification_report, confusion_matrix\n",
        "import seaborn as sns\n",
        "\n",
        "RANDOM_STATE = 42"
      ]
    },
    {
      "cell_type": "markdown",
      "source": [
        "# 1. Carregar o dataset"
      ],
      "metadata": {
        "id": "iprIhVaMvIU3"
      }
    },
    {
      "cell_type": "code",
      "source": [
        "#load dataset\n",
        "file_path = \"mushroom_s5_cap_all_ohe.csv\"\n",
        "df = pd.read_csv(file_path)\n",
        "print(\"Formato do dataset:\", df.shape)\n",
        "print(df.head())"
      ],
      "metadata": {
        "colab": {
          "base_uri": "https://localhost:8080/"
        },
        "id": "Fh-k7LPxsTbP",
        "outputId": "3f4c35cc-a6aa-4a2b-a92a-7574014a859e"
      },
      "execution_count": null,
      "outputs": [
        {
          "output_type": "stream",
          "name": "stdout",
          "text": [
            "Formato do dataset: (8124, 21)\n",
            "   cap-shape__b  cap-shape__c  cap-shape__f  cap-shape__k  cap-shape__s  \\\n",
            "0           0.0           0.0           0.0           0.0           0.0   \n",
            "1           0.0           0.0           0.0           0.0           0.0   \n",
            "2           1.0           0.0           0.0           0.0           0.0   \n",
            "3           0.0           0.0           0.0           0.0           0.0   \n",
            "4           0.0           0.0           0.0           0.0           0.0   \n",
            "\n",
            "   cap-shape__x  cap-surface__f  cap-surface__g  cap-surface__s  \\\n",
            "0           1.0             0.0             0.0             1.0   \n",
            "1           1.0             0.0             0.0             1.0   \n",
            "2           0.0             0.0             0.0             1.0   \n",
            "3           1.0             0.0             0.0             0.0   \n",
            "4           1.0             0.0             0.0             1.0   \n",
            "\n",
            "   cap-surface__y  ...  cap-color__c  cap-color__e  cap-color__g  \\\n",
            "0             0.0  ...           0.0           0.0           0.0   \n",
            "1             0.0  ...           0.0           0.0           0.0   \n",
            "2             0.0  ...           0.0           0.0           0.0   \n",
            "3             1.0  ...           0.0           0.0           0.0   \n",
            "4             0.0  ...           0.0           0.0           1.0   \n",
            "\n",
            "   cap-color__n  cap-color__p  cap-color__r  cap-color__u  cap-color__w  \\\n",
            "0           1.0           0.0           0.0           0.0           0.0   \n",
            "1           0.0           0.0           0.0           0.0           0.0   \n",
            "2           0.0           0.0           0.0           0.0           1.0   \n",
            "3           0.0           0.0           0.0           0.0           1.0   \n",
            "4           0.0           0.0           0.0           0.0           0.0   \n",
            "\n",
            "   cap-color__y  class  \n",
            "0           0.0      p  \n",
            "1           1.0      e  \n",
            "2           0.0      e  \n",
            "3           0.0      p  \n",
            "4           0.0      e  \n",
            "\n",
            "[5 rows x 21 columns]\n"
          ]
        }
      ]
    },
    {
      "cell_type": "markdown",
      "source": [
        "# 2. Separar features (X) e target (y)"
      ],
      "metadata": {
        "id": "fFGzDTVZvLr_"
      }
    },
    {
      "cell_type": "code",
      "source": [
        "X = df.drop(\"class\", axis=1)\n",
        "y = df[\"class\"]\n",
        "\n",
        "# Dividir em treino (70%) e teste (30%)\n",
        "X_train, X_test, y_train, y_test = train_test_split(\n",
        "    X, y, test_size=0.2 , random_state=RANDOM_STATE, stratify=y\n",
        ")\n",
        "print(X, y)"
      ],
      "metadata": {
        "colab": {
          "base_uri": "https://localhost:8080/"
        },
        "id": "X2xTw9rJvSVH",
        "outputId": "74c8f7cf-bfe1-494a-86f1-40eafeb949f9"
      },
      "execution_count": null,
      "outputs": [
        {
          "output_type": "stream",
          "name": "stdout",
          "text": [
            "      cap-shape__b  cap-shape__c  cap-shape__f  cap-shape__k  cap-shape__s  \\\n",
            "0              0.0           0.0           0.0           0.0           0.0   \n",
            "1              0.0           0.0           0.0           0.0           0.0   \n",
            "2              1.0           0.0           0.0           0.0           0.0   \n",
            "3              0.0           0.0           0.0           0.0           0.0   \n",
            "4              0.0           0.0           0.0           0.0           0.0   \n",
            "...            ...           ...           ...           ...           ...   \n",
            "8119           0.0           0.0           0.0           1.0           0.0   \n",
            "8120           0.0           0.0           0.0           0.0           0.0   \n",
            "8121           0.0           0.0           1.0           0.0           0.0   \n",
            "8122           0.0           0.0           0.0           1.0           0.0   \n",
            "8123           0.0           0.0           0.0           0.0           0.0   \n",
            "\n",
            "      cap-shape__x  cap-surface__f  cap-surface__g  cap-surface__s  \\\n",
            "0              1.0             0.0             0.0             1.0   \n",
            "1              1.0             0.0             0.0             1.0   \n",
            "2              0.0             0.0             0.0             1.0   \n",
            "3              1.0             0.0             0.0             0.0   \n",
            "4              1.0             0.0             0.0             1.0   \n",
            "...            ...             ...             ...             ...   \n",
            "8119           0.0             0.0             0.0             1.0   \n",
            "8120           1.0             0.0             0.0             1.0   \n",
            "8121           0.0             0.0             0.0             1.0   \n",
            "8122           0.0             0.0             0.0             0.0   \n",
            "8123           1.0             0.0             0.0             1.0   \n",
            "\n",
            "      cap-surface__y  cap-color__b  cap-color__c  cap-color__e  cap-color__g  \\\n",
            "0                0.0           0.0           0.0           0.0           0.0   \n",
            "1                0.0           0.0           0.0           0.0           0.0   \n",
            "2                0.0           0.0           0.0           0.0           0.0   \n",
            "3                1.0           0.0           0.0           0.0           0.0   \n",
            "4                0.0           0.0           0.0           0.0           1.0   \n",
            "...              ...           ...           ...           ...           ...   \n",
            "8119             0.0           0.0           0.0           0.0           0.0   \n",
            "8120             0.0           0.0           0.0           0.0           0.0   \n",
            "8121             0.0           0.0           0.0           0.0           0.0   \n",
            "8122             1.0           0.0           0.0           0.0           0.0   \n",
            "8123             0.0           0.0           0.0           0.0           0.0   \n",
            "\n",
            "      cap-color__n  cap-color__p  cap-color__r  cap-color__u  cap-color__w  \\\n",
            "0              1.0           0.0           0.0           0.0           0.0   \n",
            "1              0.0           0.0           0.0           0.0           0.0   \n",
            "2              0.0           0.0           0.0           0.0           1.0   \n",
            "3              0.0           0.0           0.0           0.0           1.0   \n",
            "4              0.0           0.0           0.0           0.0           0.0   \n",
            "...            ...           ...           ...           ...           ...   \n",
            "8119           1.0           0.0           0.0           0.0           0.0   \n",
            "8120           1.0           0.0           0.0           0.0           0.0   \n",
            "8121           1.0           0.0           0.0           0.0           0.0   \n",
            "8122           1.0           0.0           0.0           0.0           0.0   \n",
            "8123           1.0           0.0           0.0           0.0           0.0   \n",
            "\n",
            "      cap-color__y  \n",
            "0              0.0  \n",
            "1              1.0  \n",
            "2              0.0  \n",
            "3              0.0  \n",
            "4              0.0  \n",
            "...            ...  \n",
            "8119           0.0  \n",
            "8120           0.0  \n",
            "8121           0.0  \n",
            "8122           0.0  \n",
            "8123           0.0  \n",
            "\n",
            "[8124 rows x 20 columns] 0       p\n",
            "1       e\n",
            "2       e\n",
            "3       p\n",
            "4       e\n",
            "       ..\n",
            "8119    e\n",
            "8120    e\n",
            "8121    e\n",
            "8122    p\n",
            "8123    e\n",
            "Name: class, Length: 8124, dtype: object\n"
          ]
        }
      ]
    },
    {
      "cell_type": "markdown",
      "source": [
        "# 3. Definir grade de hiperparâmetros"
      ],
      "metadata": {
        "id": "zWdiJr9Nvpsf"
      }
    },
    {
      "cell_type": "code",
      "source": [
        "k = StratifiedKFold(n_splits=10, shuffle=True, random_state=43)\n",
        "param_grid = {\n",
        "#    \"C\": [0.01, 0.1, 1, 50, 100],\n",
        "#    \"kernel\": [\"linear\", \"rbf\", \"poly\", \"sigmoid\"],\n",
        "#    \"gamma\": [\"scale\", \"auto\", 0.01, 0.001, 0.0001],\n",
        "#    \"degree\": [2, 3, 4]\n",
        "#     Acurácia no teste: 0.716\n",
        "    \"C\": [0.01, 0.1, 1],\n",
        "    \"kernel\": [\"linear\", \"rbf\", \"poly\"],\n",
        "    \"gamma\": [\"scale\", \"auto\"],\n",
        "}\n",
        "\n",
        "# Criar o modelo SVM\n",
        "svm = SVC()\n",
        "\n",
        "# Configurar o GridSearchCV com cross-validation\n",
        "grid_search = GridSearchCV(svm, param_grid, cv=k, scoring=\"accuracy\", n_jobs=-1)\n",
        "grid_search.fit(X_train, y_train)\n",
        "\n",
        "# Melhor modelo encontrado\n",
        "best_model = grid_search.best_estimator_\n",
        "print(\"Melhores parâmetros encontrados:\", grid_search.best_params_)"
      ],
      "metadata": {
        "colab": {
          "base_uri": "https://localhost:8080/"
        },
        "id": "64plHMu2vqfQ",
        "outputId": "fcd9a35b-38fb-4d2e-ef3b-6376816f0d2d"
      },
      "execution_count": null,
      "outputs": [
        {
          "output_type": "stream",
          "name": "stdout",
          "text": [
            "Melhores parâmetros encontrados: {'C': 1, 'gamma': 'scale', 'kernel': 'poly'}\n"
          ]
        }
      ]
    },
    {
      "cell_type": "markdown",
      "source": [
        "# 4. Avaliação do modelo"
      ],
      "metadata": {
        "id": "SlDVHxgAwtwH"
      }
    },
    {
      "cell_type": "code",
      "source": [
        "# Previsões no conjunto de teste\n",
        "y_pred = best_model.predict(X_test)\n",
        "\n",
        "# Acurácia\n",
        "acc = accuracy_score(y_test, y_pred)\n",
        "print(f\"Acurácia no teste: {acc:.3f}\")\n",
        "\n",
        "# Relatório de classificação\n",
        "print(\"\\nRelatório de classificação:\\n\", classification_report(y_test, y_pred))"
      ],
      "metadata": {
        "colab": {
          "base_uri": "https://localhost:8080/"
        },
        "id": "rFUc35mfwuSA",
        "outputId": "ba9d055b-e931-4914-eecf-031917f88b46"
      },
      "execution_count": null,
      "outputs": [
        {
          "output_type": "stream",
          "name": "stdout",
          "text": [
            "Acurácia no teste: 0.716\n",
            "\n",
            "Relatório de classificação:\n",
            "               precision    recall  f1-score   support\n",
            "\n",
            "           e       0.71      0.77      0.74       842\n",
            "           p       0.73      0.66      0.69       783\n",
            "\n",
            "    accuracy                           0.72      1625\n",
            "   macro avg       0.72      0.71      0.71      1625\n",
            "weighted avg       0.72      0.72      0.71      1625\n",
            "\n"
          ]
        }
      ]
    },
    {
      "cell_type": "markdown",
      "source": [
        "# 5. Matriz de confusão"
      ],
      "metadata": {
        "id": "8GFux5-qw6n3"
      }
    },
    {
      "cell_type": "code",
      "source": [
        "cm = confusion_matrix(y_test, y_pred)\n",
        "\n",
        "plt.figure(figsize=(6,4))\n",
        "sns.heatmap(cm, annot=True, fmt=\"d\", cmap=\"Blues\", xticklabels=[\"Comestível\", \"Venenoso\"], yticklabels=[\"Comestível\", \"Venenoso\"])\n",
        "plt.xlabel(\"Predito\")\n",
        "plt.ylabel(\"Real\")\n",
        "plt.title(\"Matriz de Confusão - SVM (Cap features)\")\n",
        "plt.show()"
      ],
      "metadata": {
        "colab": {
          "base_uri": "https://localhost:8080/",
          "height": 410
        },
        "id": "ViSoWovIw7_f",
        "outputId": "33c7c78c-adc2-4c73-b208-0771e2173d66"
      },
      "execution_count": null,
      "outputs": [
        {
          "output_type": "display_data",
          "data": {
            "text/plain": [
              "<Figure size 600x400 with 2 Axes>"
            ],
            "image/png": "[encoded data removed]"
          },
          "metadata": {}
        }
      ]
    }
  ]
}