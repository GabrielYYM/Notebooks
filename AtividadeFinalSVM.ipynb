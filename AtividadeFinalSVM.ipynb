{
  "nbformat": 4,
  "nbformat_minor": 0,
  "metadata": {
    "colab": {
      "provenance": [],
      "authorship_tag": "ABX9TyObQdf9zLEk61FurYgr+mg+",
      "include_colab_link": true
    },
    "kernelspec": {
      "name": "python3",
      "display_name": "Python 3"
    },
    "language_info": {
      "name": "python"
    }
  },
  "cells": [
    {
      "cell_type": "markdown",
      "metadata": {
        "id": "view-in-github",
        "colab_type": "text"
      },
      "source": [
        "<a href=\"https://colab.research.google.com/github/GabrielYYM/Notebooks/blob/main/AtividadeFinalSVM.ipynb\" target=\"_parent\"><img src=\"https://colab.research.google.com/assets/colab-badge.svg\" alt=\"Open In Colab\"/></a>"
      ]
    },
    {
      "cell_type": "markdown",
      "source": [
        "Descrição do Dataset\n",
        "\n",
        "O presente dataset representa o perfil de microbiota intestinal de crianças com e sem Transtorno do Espectro Autista (ASD). Ele foi construído a partir de sequenciamento de 16S rRNA, gerando uma matriz de abundância categorizada de microrganismos.\n",
        "\n",
        "    Amostras: 61 crianças\n",
        "\n",
        "        Grupo A → Crianças com ASD (Autistic Spectrum Disorder)\n",
        "\n",
        "        Grupo B → Crianças com desenvolvimento típico (TD – Typically Developing)\n",
        "\n",
        "    Variáveis: 5619 microrganismos identificados em nível taxonômico (gênero e espécie), com nomes no formato padrão:\n",
        "\n",
        "        Exemplo: g__Faecalibacterium;s__Faecalibacterium prausnitzii\n",
        "\n",
        "    Natureza dos dados:\n",
        "\n",
        "        Cada célula da matriz indica a categoria de abundância relativa de um microrganismo em uma amostra.\n",
        "\n",
        "        Os valores são representados qualitativamente como low (baixa abundância), mid (abundância intermediária), high (alta abundância), além de casos específicos de absent (ausente) e present (presente).\n",
        "\n",
        "Assim, o dataset reflete a composição microbiana intestinal de cada criança, permitindo investigar se há padrões que distinguem crianças com ASD das crianças com desenvolvimento típico.\n",
        "\n",
        "\n",
        "🧩 Hipótese\n",
        "\n",
        "A composição da microbiota intestinal difere significativamente entre crianças com Transtorno do Espectro Autista (ASD) e com desenvolvimento típico (TD), e tais diferenças podem ser detectadas e exploradas por métodos de aprendizado de máquina, como SVM, para discriminar os grupos com base no perfil microbiano.\n",
        "❓ Questão norteadora\n",
        "\n",
        "É possível identificar padrões na microbiota intestinal que discriminem crianças com ASD de crianças com desenvolvimento típico (TD) utilizando algoritmos de aprendizado de máquina, e como os diferentes métodos de busca de hiperparâmetros (GridSearchCV e RandomizedSearchCV) influenciam a performance dessa classificação?\n",
        "\n",
        "\n",
        "📌 Atividade\n",
        "\n",
        "    Exploração do Dataset\n",
        "\n",
        "        Leia e descreva a composição do dataset (amostras, grupos e variáveis).\n",
        "\n",
        "        Reflita sobre o que significa cada categoria de abundância (low, mid, high, absent, present).\n",
        "\n",
        "    Experimento com GridSearchCV\n",
        "\n",
        "        Utilize o método GridSearchCV, que faz uma busca exaustiva em todas as combinações de parâmetros.\n",
        "        Reduzir o número de variáveis (Use.: k=500 ou k=100 com SelectKBest).\n",
        "\n",
        "        Observe quais parâmetros foram escolhidos como ótimos e qual foi o desempenho do modelo (acurácia, sensibilidade, especificidade, ROC-AUC).\n",
        "\n",
        "        Reflita: quais são as vantagens de testar todas as combinações possíveis? Quais são as limitações desse método?\n",
        "\n",
        "    Experimento com RandomizedSearchCV\n",
        "\n",
        "        Utilize o método RandomizedSearchCV, que faz uma busca aleatória em parte do espaço de parâmetros.\n",
        "\n",
        "        Compare os resultados com os obtidos no GridSearchCV.\n",
        "\n",
        "        Reflita: por que o RandomizedSearch pode encontrar resultados diferentes, às vezes melhores, às vezes piores, mesmo testando menos combinações?\n",
        "\n",
        "    Análise crítica\n",
        "\n",
        "        Compare os dois métodos considerando:\n",
        "\n",
        "            Tempo de execução.\n",
        "\n",
        "            Cobertura do espaço de parâmetros.\n",
        "\n",
        "            Qualidade e estabilidade dos resultados."
      ],
      "metadata": {
        "id": "fpdqQEcMADlC"
      }
    },
    {
      "cell_type": "code",
      "source": [],
      "metadata": {
        "id": "JK_PRVOgws0_"
      },
      "execution_count": null,
      "outputs": []
    }
  ]
}